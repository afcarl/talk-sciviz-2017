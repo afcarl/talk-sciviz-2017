{
 "cells": [
  {
   "cell_type": "markdown",
   "metadata": {},
   "source": [
    "# Ipywidgets\n",
    " * Interactive widgets for the Jupyter notebook\n",
    " * [Documentation: https://ipywidgets.readthedocs.io](https://ipywidgets.readthedocs.io)\n",
    " * [Github: https://github.com/jupyter-widgets/ipywidgets](https://github.com/jupyter-widgets/ipywidgets)"
   ]
  },
  {
   "cell_type": "code",
   "execution_count": 1,
   "metadata": {
    "collapsed": true
   },
   "outputs": [],
   "source": [
    "import ipywidgets as widgets"
   ]
  },
  {
   "cell_type": "code",
   "execution_count": 2,
   "metadata": {},
   "outputs": [
    {
     "data": {
      "application/vnd.jupyter.widget-view+json": {
       "model_id": "1b08c4c1d9724680a4bdf9b105bb7a66"
      }
     },
     "metadata": {},
     "output_type": "display_data"
    }
   ],
   "source": [
    "slider = widgets.FloatSlider(min=0, max=10, step=0.5)\n",
    "slider"
   ]
  },
  {
   "cell_type": "code",
   "execution_count": 3,
   "metadata": {},
   "outputs": [
    {
     "data": {
      "application/vnd.jupyter.widget-view+json": {
       "model_id": "e13f8f53f5484509af8f41a793a134ad"
      }
     },
     "metadata": {},
     "output_type": "display_data"
    }
   ],
   "source": [
    "text = widgets.FloatText(value=1)\n",
    "text"
   ]
  },
  {
   "cell_type": "code",
   "execution_count": 4,
   "metadata": {},
   "outputs": [
    {
     "data": {
      "text/plain": [
       "1.0"
      ]
     },
     "execution_count": 4,
     "metadata": {},
     "output_type": "execute_result"
    }
   ],
   "source": [
    "text.value"
   ]
  },
  {
   "cell_type": "code",
   "execution_count": 5,
   "metadata": {
    "collapsed": true
   },
   "outputs": [],
   "source": [
    "text.value = 5\n",
    "slider.value = 2"
   ]
  },
  {
   "cell_type": "code",
   "execution_count": 6,
   "metadata": {
    "collapsed": true
   },
   "outputs": [],
   "source": [
    "widgets.jslink((text, 'value'), (slider, 'value'))"
   ]
  },
  {
   "cell_type": "code",
   "execution_count": 7,
   "metadata": {
    "collapsed": true
   },
   "outputs": [],
   "source": [
    "slider.value = 3.0"
   ]
  },
  {
   "cell_type": "markdown",
   "metadata": {},
   "source": [
    "# Bqplot\n",
    " * Interactive plotting in the Jupyter notebook\n",
    " * [Documentation: https://bqplot.readthedocs.io](https://bqplot.readthedocs.io)\n",
    " * [Github: https://github.com/bloomberg/bqplot](https://github.com/bloomberg/bqplot)"
   ]
  },
  {
   "cell_type": "code",
   "execution_count": 8,
   "metadata": {},
   "outputs": [
    {
     "data": {
      "application/vnd.jupyter.widget-view+json": {
       "model_id": "50840460a36a4e979660573a626806af"
      }
     },
     "metadata": {},
     "output_type": "display_data"
    }
   ],
   "source": [
    "import bqplot.pyplot as plt\n",
    "import numpy as np\n",
    "\n",
    "x = np.linspace(0, 2, 50)\n",
    "y = x**2\n",
    "\n",
    "fig = plt.figure()\n",
    "scatter = plt.scatter(x, y)\n",
    "plt.show()"
   ]
  },
  {
   "cell_type": "code",
   "execution_count": 9,
   "metadata": {
    "collapsed": true
   },
   "outputs": [],
   "source": [
    "fig.animation_duration = 500\n",
    "scatter.y = x**1.7"
   ]
  },
  {
   "cell_type": "code",
   "execution_count": 10,
   "metadata": {},
   "outputs": [
    {
     "data": {
      "text/plain": [
       "<bqplot.interacts.BrushSelector at 0x10b66c9e8>"
      ]
     },
     "execution_count": 10,
     "metadata": {},
     "output_type": "execute_result"
    }
   ],
   "source": [
    "scatter.selected_style = {'stroke':'red', 'fill': 'orange'}\n",
    "plt.brush_selector()"
   ]
  },
  {
   "cell_type": "code",
   "execution_count": 11,
   "metadata": {},
   "outputs": [
    {
     "data": {
      "text/plain": [
       "[]"
      ]
     },
     "execution_count": 11,
     "metadata": {},
     "output_type": "execute_result"
    }
   ],
   "source": [
    "scatter.selected"
   ]
  },
  {
   "cell_type": "code",
   "execution_count": 12,
   "metadata": {
    "collapsed": true
   },
   "outputs": [],
   "source": [
    "scatter.selected = [1,2,10,40]"
   ]
  },
  {
   "cell_type": "markdown",
   "metadata": {},
   "source": [
    "# Ipyleaflet\n",
    " * leaflet / Jupyter bridge enabling interactive maps in the notebook\n",
    " * https://github.com/ellisonbg/ipyleaflet"
   ]
  },
  {
   "cell_type": "code",
   "execution_count": 13,
   "metadata": {},
   "outputs": [
    {
     "data": {
      "application/vnd.jupyter.widget-view+json": {
       "model_id": "6f0a07666f50495eb1339a451b067ea0"
      }
     },
     "metadata": {},
     "output_type": "display_data"
    }
   ],
   "source": [
    "import ipyleaflet\n",
    "ipyleaflet.Map(center = [51.9201411,4.4718694], zoom = 17)"
   ]
  },
  {
   "cell_type": "code",
   "execution_count": 14,
   "metadata": {
    "collapsed": true
   },
   "outputs": [],
   "source": [
    "_.add_layer(ipyleaflet.ImageOverlay(url='https://www.esciencecenter.nl/img/cdn/logo_escience_center.png', bounds=_.bounds, opacity=0.5))"
   ]
  },
  {
   "cell_type": "markdown",
   "metadata": {},
   "source": [
    "# Integration with vaex"
   ]
  },
  {
   "cell_type": "code",
   "execution_count": 15,
   "metadata": {
    "collapsed": true
   },
   "outputs": [],
   "source": [
    "import vaex\n",
    "dstaxi = vaex.open(\"/Users/maartenbreddels/vaex/data/nytaxi/nyc_taxi2015.hdf5\") # mmapped, doesn't cost extra memory"
   ]
  },
  {
   "cell_type": "code",
   "execution_count": 16,
   "metadata": {
    "collapsed": true
   },
   "outputs": [],
   "source": [
    "# dstaxi.plot_widget(dstaxi.col.pickup_longitude, dstaxi.col.pickup_latitude, f=\"log1p\")"
   ]
  },
  {
   "cell_type": "code",
   "execution_count": 17,
   "metadata": {},
   "outputs": [
    {
     "data": {
      "application/vnd.jupyter.widget-view+json": {
       "model_id": "e1a2b9d4db574cfaa369355b3248d9db"
      }
     },
     "metadata": {},
     "output_type": "display_data"
    }
   ],
   "source": [
    "dstaxi.plot_widget(\"pickup_longitude\", \"pickup_latitude\", f=\"log\", backend=\"ipyleaflet\", shape=400)"
   ]
  },
  {
   "cell_type": "code",
   "execution_count": null,
   "metadata": {
    "collapsed": true
   },
   "outputs": [],
   "source": [
    "dstaxi.plot_widget(\"dropoff_longitude\", \"dropoff_latitude\", f=\"log\", backend=\"ipyleaflet\",\n",
    "                   z=\"dropoff_hour\", type=\"slice\", z_shape=24, shape=400, z_relative=True,\n",
    "                   limits=[None, None, (-0.5, 23.5)])"
   ]
  },
  {
   "cell_type": "code",
   "execution_count": null,
   "metadata": {
    "collapsed": true
   },
   "outputs": [],
   "source": [
    "ds = vaex.datasets.helmi_de_zeeuw.fetch()"
   ]
  },
  {
   "cell_type": "code",
   "execution_count": null,
   "metadata": {
    "collapsed": true
   },
   "outputs": [],
   "source": [
    "ds.plot_widget(\"x\", \"y\", f=\"log\", limits=[-20, 20])"
   ]
  },
  {
   "cell_type": "code",
   "execution_count": null,
   "metadata": {
    "collapsed": true
   },
   "outputs": [],
   "source": [
    "ds.plot_widget(\"Lz\", \"E\", f=\"log\")"
   ]
  },
  {
   "cell_type": "markdown",
   "metadata": {},
   "source": [
    "# ipyvolume\n",
    " * 3d plotting for Python in the Jupyter notebook based on IPython widgets using WebGL\n",
    " * ~6 months old\n",
    " * Glyphs + Volume rendering (surfaces/meshes/lines are underway)\n",
    " * Live documentation http://ipyvolume.readthedocs.io/en/stable/ (since and thanks to ipywidgets 6)\n"
   ]
  },
  {
   "cell_type": "code",
   "execution_count": null,
   "metadata": {
    "collapsed": true
   },
   "outputs": [],
   "source": [
    "import ipyvolume\n",
    "import ipyvolume.pylab as plt3d\n",
    "import numpy as np"
   ]
  },
  {
   "cell_type": "code",
   "execution_count": null,
   "metadata": {
    "collapsed": true
   },
   "outputs": [],
   "source": [
    "ipyvolume.example_ylm()"
   ]
  },
  {
   "cell_type": "code",
   "execution_count": null,
   "metadata": {
    "collapsed": true
   },
   "outputs": [],
   "source": [
    "N = 1000\n",
    "x, y, z = np.random.random((3, N))"
   ]
  },
  {
   "cell_type": "code",
   "execution_count": null,
   "metadata": {
    "collapsed": true
   },
   "outputs": [],
   "source": [
    "fig = plt3d.figure()\n",
    "scatter = plt3d.scatter(x, y, z, marker='box')\n",
    "plt3d.show()"
   ]
  },
  {
   "cell_type": "code",
   "execution_count": null,
   "metadata": {
    "collapsed": true
   },
   "outputs": [],
   "source": [
    "scatter.x = scatter.x + 0.1"
   ]
  },
  {
   "cell_type": "code",
   "execution_count": null,
   "metadata": {
    "collapsed": true
   },
   "outputs": [],
   "source": [
    "scatter.color = \"green\"\n",
    "scatter.size = 10"
   ]
  },
  {
   "cell_type": "code",
   "execution_count": null,
   "metadata": {
    "collapsed": true
   },
   "outputs": [],
   "source": [
    "scatter.color = np.random.random((N,3))"
   ]
  },
  {
   "cell_type": "code",
   "execution_count": null,
   "metadata": {
    "collapsed": true
   },
   "outputs": [],
   "source": [
    "scatter.size = 2"
   ]
  },
  {
   "cell_type": "code",
   "execution_count": null,
   "metadata": {
    "collapsed": true
   },
   "outputs": [],
   "source": [
    "plt3d.figure()\n",
    "plt3d.style.use('dark')\n",
    "quiver = plt3d.quiver(*ipyvolume.datasets.animated_stream.fetch().data[:,::,::4], size=5)\n",
    "plt3d.animate_glyphs(quiver, interval=200)\n",
    "plt3d.show()"
   ]
  },
  {
   "cell_type": "code",
   "execution_count": null,
   "metadata": {
    "collapsed": true
   },
   "outputs": [],
   "source": [
    "quiver.geo = \"cat\""
   ]
  },
  {
   "cell_type": "code",
   "execution_count": null,
   "metadata": {
    "collapsed": true
   },
   "outputs": [],
   "source": [
    "quiver.geo = \"arrow\""
   ]
  },
  {
   "cell_type": "code",
   "execution_count": null,
   "metadata": {
    "collapsed": true
   },
   "outputs": [],
   "source": [
    "plot3d = ds.plot_widget(\"x\", \"y\", \"z\", vx=\"vx\", vy=\"vy\", vz=\"vz\",\n",
    "                        backend=\"ipyvolume\", f=\"log1p\", shape=100, smooth_pre=0.5)"
   ]
  },
  {
   "cell_type": "code",
   "execution_count": null,
   "metadata": {
    "collapsed": true
   },
   "outputs": [],
   "source": [
    "plot3d.vcount_limits = [50, 100000]"
   ]
  },
  {
   "cell_type": "code",
   "execution_count": null,
   "metadata": {
    "collapsed": true
   },
   "outputs": [],
   "source": [
    "plot3d.backend.quiver.color = \"red\""
   ]
  },
  {
   "cell_type": "code",
   "execution_count": null,
   "metadata": {
    "collapsed": true
   },
   "outputs": [],
   "source": [
    "widgets.ColorPicker()"
   ]
  },
  {
   "cell_type": "code",
   "execution_count": null,
   "metadata": {
    "collapsed": true
   },
   "outputs": [],
   "source": [
    "widgets.jslink((plot3d.backend.quiver, 'color'), (_, 'value'))"
   ]
  },
  {
   "cell_type": "code",
   "execution_count": null,
   "metadata": {
    "collapsed": true
   },
   "outputs": [],
   "source": [
    "plt3d.save(\"sciviz.html\")"
   ]
  },
  {
   "cell_type": "code",
   "execution_count": null,
   "metadata": {
    "collapsed": true
   },
   "outputs": [],
   "source": [
    "!open sciviz.html"
   ]
  },
  {
   "cell_type": "code",
   "execution_count": null,
   "metadata": {
    "collapsed": true
   },
   "outputs": [],
   "source": [
    "!open CT_3D.html"
   ]
  },
  {
   "cell_type": "code",
   "execution_count": null,
   "metadata": {
    "collapsed": true
   },
   "outputs": [],
   "source": [
    "!open brain_flat/brain_flat.html"
   ]
  },
  {
   "cell_type": "markdown",
   "metadata": {},
   "source": [
    "# A Billion stars in the Jupyter notebook"
   ]
  },
  {
   "cell_type": "code",
   "execution_count": null,
   "metadata": {
    "collapsed": true
   },
   "outputs": [],
   "source": [
    "import vaex\n",
    "gaia = vaex.open(\"ws://gaia:9000/gaia-dr1\")"
   ]
  },
  {
   "cell_type": "code",
   "execution_count": null,
   "metadata": {
    "collapsed": true
   },
   "outputs": [],
   "source": [
    "f\"{len(gaia):,}\" # (python3.6 f-string)"
   ]
  },
  {
   "cell_type": "code",
   "execution_count": null,
   "metadata": {
    "collapsed": true
   },
   "outputs": [],
   "source": [
    "ra_dec_limits = [[0, 360], [-90, 90]]"
   ]
  },
  {
   "cell_type": "code",
   "execution_count": null,
   "metadata": {
    "collapsed": true
   },
   "outputs": [],
   "source": [
    "gaia.plot_widget(\"ra\", \"dec\", limits=ra_dec_limits)"
   ]
  },
  {
   "cell_type": "code",
   "execution_count": null,
   "metadata": {
    "collapsed": true
   },
   "outputs": [],
   "source": [
    "gaia.plot1d(\"phot_g_mean_mag\", selection=False, n=True)\n",
    "gaia.plot1d(\"phot_g_mean_mag\", selection=True, show=True, n=True)"
   ]
  },
  {
   "cell_type": "code",
   "execution_count": null,
   "metadata": {
    "collapsed": true
   },
   "outputs": [],
   "source": [
    "!open billion-stars-remote.mp4"
   ]
  },
  {
   "cell_type": "code",
   "execution_count": null,
   "metadata": {
    "collapsed": true
   },
   "outputs": [],
   "source": []
  }
 ],
 "metadata": {
  "anaconda-cloud": {},
  "kernelspec": {
   "display_name": "Python 3",
   "language": "python",
   "name": "python3"
  },
  "language_info": {
   "codemirror_mode": {
    "name": "ipython",
    "version": 3
   },
   "file_extension": ".py",
   "mimetype": "text/x-python",
   "name": "python",
   "nbconvert_exporter": "python",
   "pygments_lexer": "ipython3",
   "version": "3.6.1"
  },
  "widgets": {
   "application/vnd.jupyter.widget-state+json": {
    "state": {
     "06eb9b4c9f7446b19917594a7605cb4c": {
      "model_module": "jupyter-js-widgets",
      "model_module_version": "~2.1.4",
      "model_name": "LayoutModel",
      "state": {
       "_model_module_version": "~2.1.4",
       "_view_module_version": "~2.1.4"
      }
     },
     "0ec5d8c438bb4fb388fab942f8275119": {
      "model_module": "bqplot",
      "model_module_version": "^0.2.3",
      "model_name": "ScatterModel",
      "state": {
       "_model_module": "bqplot",
       "_model_module_version": "^0.2.3",
       "_view_module": "bqplot",
       "_view_module_version": "^0.2.3",
       "apply_clip": true,
       "color": {
        "type": null,
        "values": null
       },
       "colors": [
        "DeepSkyBlue"
       ],
       "display_legend": false,
       "enable_hover": true,
       "hovered_style": {},
       "interactions": {
        "hover": "tooltip"
       },
       "labels": [],
       "msg_throttle": 1,
       "names": {
        "type": null,
        "values": null
       },
       "opacity": {
        "type": null,
        "values": null
       },
       "preserve_domain": {},
       "rotation": {
        "type": null,
        "values": null
       },
       "scales": {
        "x": "IPY_MODEL_6ac0051597a04fc2b32030b41f964b24",
        "y": "IPY_MODEL_b41286f96a474bd1891ea81a6c5e056e"
       },
       "scales_metadata": {
        "color": {
         "dimension": "color"
        },
        "opacity": {
         "dimension": "opacity"
        },
        "size": {
         "dimension": "size"
        },
        "x": {
         "dimension": "x",
         "orientation": "horizontal"
        },
        "y": {
         "dimension": "y",
         "orientation": "vertical"
        }
       },
       "selected": null,
       "selected_style": {
        "fill": "orange",
        "stroke": "red"
       },
       "size": {
        "type": null,
        "values": null
       },
       "skew": {
        "type": null,
        "values": null
       },
       "tooltip": null,
       "tooltip_location": "mouse",
       "tooltip_style": {
        "opacity": 0.9
       },
       "unhovered_style": {},
       "unselected_style": {},
       "visible": true,
       "x": {
        "type": "float",
        "values": [
         0,
         0.04081632653061224,
         0.08163265306122448,
         0.12244897959183673,
         0.16326530612244897,
         0.2040816326530612,
         0.24489795918367346,
         0.2857142857142857,
         0.32653061224489793,
         0.36734693877551017,
         0.4081632653061224,
         0.44897959183673464,
         0.4897959183673469,
         0.5306122448979591,
         0.5714285714285714,
         0.6122448979591836,
         0.6530612244897959,
         0.6938775510204082,
         0.7346938775510203,
         0.7755102040816326,
         0.8163265306122448,
         0.8571428571428571,
         0.8979591836734693,
         0.9387755102040816,
         0.9795918367346939,
         1.0204081632653061,
         1.0612244897959182,
         1.1020408163265305,
         1.1428571428571428,
         1.183673469387755,
         1.2244897959183672,
         1.2653061224489794,
         1.3061224489795917,
         1.346938775510204,
         1.3877551020408163,
         1.4285714285714284,
         1.4693877551020407,
         1.510204081632653,
         1.5510204081632653,
         1.5918367346938773,
         1.6326530612244896,
         1.673469387755102,
         1.7142857142857142,
         1.7551020408163265,
         1.7959183673469385,
         1.8367346938775508,
         1.8775510204081631,
         1.9183673469387754,
         1.9591836734693877,
         2
        ]
       },
       "y": {
        "type": "float",
        "values": [
         0,
         0.004349282892212384,
         0.01413086180652275,
         0.028152942259337132,
         0.045911305459707626,
         0.06709137057609656,
         0.09146917925850126,
         0.11887330148743556,
         0.14916627151796255,
         0.1822342159616107,
         0.21798050610103462,
         0.2563216094442831,
         0.2971842401818229,
         0.34050332371879044,
         0.38622049598378716,
         0.4342829677303045,
         0.48464264598395984,
         0.5372554415743507,
         0.5920807144516721,
         0.6490808230713434,
         0.7082207537580415,
         0.7694678124857934,
         0.8327913660360242,
         0.8981626226983994,
         0.9655544449879708,
         1.0349411885437116,
         1.1062985626314021,
         1.179603508621869,
         1.2548340935388997,
         1.331969416329287,
         1.4109895249425501,
         1.4918753426503577,
         1.5746086023075923,
         1.6591717874747258,
         1.7455480794967753,
         1.8337213097768155,
         1.9236759165987307,
         2.0153969059499324,
         2.1088698158743058,
         2.204080683951835,
         2.3010160175567544,
         2.3996627665926495,
         2.5000082984423044,
         2.602040374903467,
         2.705747130910174,
         2.811117054863627,
         2.9181389704175054,
         3.026802019580646,
         3.137095647015577,
         3.249009585424942
        ]
       }
      }
     },
     "1b08c4c1d9724680a4bdf9b105bb7a66": {
      "model_module": "jupyter-js-widgets",
      "model_module_version": "~2.1.4",
      "model_name": "FloatSliderModel",
      "state": {
       "_model_module_version": "~2.1.4",
       "_view_module_version": "~2.1.4",
       "layout": "IPY_MODEL_b926cd1458544b4ab82f380225d3b2c2",
       "max": 10,
       "step": 0.5,
       "value": 3
      }
     },
     "1eea3ae9ce5d43b6afa5d23b94438d11": {
      "model_module": "jupyter-js-widgets",
      "model_module_version": "~2.1.4",
      "model_name": "LayoutModel",
      "state": {
       "_model_module_version": "~2.1.4",
       "_view_module_version": "~2.1.4"
      }
     },
     "24f24998f4b04dd69155f03ec814fa25": {
      "model_module": "jupyter-leaflet",
      "model_module_version": "*",
      "model_name": "LeafletImageOverlayModel",
      "state": {
       "_model_module_version": "*",
       "_view_module_version": "*",
       "bounds": [
        [
         51.91881532798096,
         4.467519521713257
        ],
        [
         51.921462171486276,
         4.476209878921509
        ]
       ],
       "msg_throttle": 1,
       "opacity": 0.5,
       "options": [
        "attribution",
        "opacity"
       ],
       "url": "https://www.esciencecenter.nl/img/cdn/logo_escience_center.png"
      }
     },
     "33cc7c172c49429fbe072515c7269c49": {
      "model_module": "jupyter-js-widgets",
      "model_module_version": "~2.1.4",
      "model_name": "LayoutModel",
      "state": {
       "_model_module_version": "~2.1.4",
       "_view_module_version": "~2.1.4"
      }
     },
     "50840460a36a4e979660573a626806af": {
      "model_module": "jupyter-js-widgets",
      "model_module_version": "~2.1.4",
      "model_name": "VBoxModel",
      "state": {
       "_model_module_version": "~2.1.4",
       "_view_module_version": "~2.1.4",
       "children": [
        "IPY_MODEL_d7ac517e067c42d38d8928e1d6c4bff3",
        "IPY_MODEL_71b71e56f27f453d80b1e612c87d77f8"
       ],
       "layout": "IPY_MODEL_33cc7c172c49429fbe072515c7269c49"
      }
     },
     "51c988916f9d43e480d1e33db7e84b35": {
      "model_module": "jupyter-js-widgets",
      "model_module_version": "~2.1.4",
      "model_name": "OutputModel",
      "state": {
       "_dom_classes": [],
       "_model_module": "jupyter-js-widgets",
       "_model_module_version": "~2.1.4",
       "_view_module": "jupyter-js-widgets",
       "_view_module_version": "~2.1.4",
       "layout": "IPY_MODEL_d2f27841770d4e628399115634c35c03",
       "msg_throttle": 1
      }
     },
     "6ac0051597a04fc2b32030b41f964b24": {
      "model_module": "bqplot",
      "model_module_version": "^0.2.3",
      "model_name": "LinearScaleModel",
      "state": {
       "stabilized": false
      }
     },
     "6f0a07666f50495eb1339a451b067ea0": {
      "model_module": "jupyter-leaflet",
      "model_module_version": "*",
      "model_name": "LeafletMapModel",
      "state": {
       "_dom_classes": [],
       "_east": 4.476209878921509,
       "_model_module_version": "*",
       "_north": 51.921462171486276,
       "_south": 51.91881532798096,
       "_view_module_version": "*",
       "_west": 4.467519521713257,
       "center": [
        51.920138769240445,
        4.471864700317383
       ],
       "layers": [
        "IPY_MODEL_d42af7e35bd94b40aae5ee04cbb1584e",
        "IPY_MODEL_24f24998f4b04dd69155f03ec814fa25"
       ],
       "layout": "IPY_MODEL_9c6cd38d70dd435892db4c2ca6b9a898",
       "msg_throttle": 1,
       "options": [
        "attribution_control",
        "bounce_at_zoom_limits",
        "box_zoom",
        "center",
        "close_popup_on_click",
        "double_click_zoom",
        "dragging",
        "inertia",
        "inertia_deceleration",
        "inertia_max_speed",
        "keyboard",
        "keyboard_pan_offset",
        "keyboard_zoom_offset",
        "max_zoom",
        "min_zoom",
        "scroll_wheel_zoom",
        "tap",
        "tap_tolerance",
        "touch_zoom",
        "world_copy_jump",
        "zoom",
        "zoom_animation_threshold",
        "zoom_control",
        "zoom_start"
       ],
       "zoom": 17
      }
     },
     "71b71e56f27f453d80b1e612c87d77f8": {
      "model_module": "bqplot",
      "model_module_version": "^0.2.3",
      "model_name": "ToolbarModel",
      "state": {
       "figure": "IPY_MODEL_d7ac517e067c42d38d8928e1d6c4bff3",
       "layout": "IPY_MODEL_1eea3ae9ce5d43b6afa5d23b94438d11"
      }
     },
     "73e26f73d7264c90ba20d1e4df35d923": {
      "model_module": "jupyter-leaflet",
      "model_module_version": "*",
      "model_name": "LeafletImageOverlayModel",
      "state": {
       "_model_module_version": "*",
       "_view_module_version": "*",
       "bounds": [
        [
         40.68141910186579,
         -74.02175903320312
        ],
        [
         40.78548067439837,
         -73.74366760253906
        ]
       ],
       "msg_throttle": 1,
       "options": [
        "attribution",
        "opacity"
       ],
       "url": "data:image/png;base64,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"
      }
     },
     "765b83d490a74f90bca343225c858b0b": {
      "model_module": "jupyter-js-widgets",
      "model_module_version": "~2.1.4",
      "model_name": "LayoutModel",
      "state": {
       "_model_module_version": "~2.1.4",
       "_view_module_version": "~2.1.4",
       "min_width": "125px"
      }
     },
     "7c16afffc4574ebf9f0e2567a89e596d": {
      "model_module": "jupyter-js-widgets",
      "model_module_version": "~2.1.4",
      "model_name": "VBoxModel",
      "state": {
       "_model_module_version": "~2.1.4",
       "_view_module_version": "~2.1.4",
       "layout": "IPY_MODEL_d551ff2a7f614c619b40f01a1c587004"
      }
     },
     "853b485c480c45588162fcaffe416c49": {
      "model_module": "bqplot",
      "model_module_version": "^0.2.3",
      "model_name": "AxisModel",
      "state": {
       "orientation": "vertical",
       "scale": "IPY_MODEL_b41286f96a474bd1891ea81a6c5e056e",
       "side": "left",
       "tick_values": {
        "type": null,
        "values": null
       }
      }
     },
     "95f558ed542843afae4eb125f45cd80e": {
      "model_module": "jupyter-leaflet",
      "model_module_version": "*",
      "model_name": "LeafletMapModel",
      "state": {
       "_dom_classes": [],
       "_east": -73.74366760253906,
       "_model_module_version": "*",
       "_north": 40.78548067439837,
       "_south": 40.68141910186579,
       "_view_module_version": "*",
       "_west": -74.02175903320312,
       "center": [
        40.73347023268492,
        -73.8827133178711
       ],
       "layers": [
        "IPY_MODEL_e607935bb66e47f38c2d1e59ec0003c0",
        "IPY_MODEL_73e26f73d7264c90ba20d1e4df35d923"
       ],
       "layout": "IPY_MODEL_e7a4d03d5a724f0daeab9e07e6580178",
       "msg_throttle": 1,
       "options": [
        "attribution_control",
        "bounce_at_zoom_limits",
        "box_zoom",
        "center",
        "close_popup_on_click",
        "double_click_zoom",
        "dragging",
        "inertia",
        "inertia_deceleration",
        "inertia_max_speed",
        "keyboard",
        "keyboard_pan_offset",
        "keyboard_zoom_offset",
        "max_zoom",
        "min_zoom",
        "scroll_wheel_zoom",
        "tap",
        "tap_tolerance",
        "touch_zoom",
        "world_copy_jump",
        "zoom",
        "zoom_animation_threshold",
        "zoom_control",
        "zoom_start"
       ]
      }
     },
     "9c6cd38d70dd435892db4c2ca6b9a898": {
      "model_module": "jupyter-js-widgets",
      "model_module_version": "~2.1.4",
      "model_name": "LayoutModel",
      "state": {
       "_model_module_version": "~2.1.4",
       "_view_module_version": "~2.1.4",
       "align_self": "stretch",
       "height": "400px"
      }
     },
     "a39944fddb1c4bfcb212410e8e585a1b": {
      "model_module": "bqplot",
      "model_module_version": "^0.2.3",
      "model_name": "LinearScaleModel",
      "state": {
       "allow_padding": false,
       "max": 1,
       "min": 0,
       "stabilized": false
      }
     },
     "b41286f96a474bd1891ea81a6c5e056e": {
      "model_module": "bqplot",
      "model_module_version": "^0.2.3",
      "model_name": "LinearScaleModel",
      "state": {
       "stabilized": false
      }
     },
     "b51f09e9fe8945f1a8b296656dca373c": {
      "model_module": "jupyter-js-widgets",
      "model_module_version": "~2.1.4",
      "model_name": "ProgressModel",
      "state": {
       "_model_module_version": "~2.1.4",
       "_view_module_version": "~2.1.4",
       "description": "progress",
       "layout": "IPY_MODEL_bdc3ff8fcd66470ebc206546d037837b",
       "max": 1,
       "step": 0.01
      }
     },
     "b876cc50741a4089aa27077f55c3fafa": {
      "model_module": "jupyter-js-widgets",
      "model_module_version": "~2.1.4",
      "model_name": "LayoutModel",
      "state": {
       "_model_module_version": "~2.1.4",
       "_view_module_version": "~2.1.4"
      }
     },
     "b926cd1458544b4ab82f380225d3b2c2": {
      "model_module": "jupyter-js-widgets",
      "model_module_version": "~2.1.4",
      "model_name": "LayoutModel",
      "state": {
       "_model_module_version": "~2.1.4",
       "_view_module_version": "~2.1.4"
      }
     },
     "bdc3ff8fcd66470ebc206546d037837b": {
      "model_module": "jupyter-js-widgets",
      "model_module_version": "~2.1.4",
      "model_name": "LayoutModel",
      "state": {
       "_model_module_version": "~2.1.4",
       "_view_module_version": "~2.1.4",
       "max_width": "500px",
       "width": "95%"
      }
     },
     "c5efa33b189a4fad9695d6378dcf88a2": {
      "model_module": "jupyter-js-widgets",
      "model_module_version": "*",
      "model_name": "WidgetModel",
      "state": {
       "_view_module": null,
       "smooth_post": null,
       "smooth_pre": null,
       "vcount_limits": null,
       "vx": "",
       "vy": "",
       "vz": "",
       "w": null,
       "what": "count(*)",
       "x": "pickup_longitude",
       "y": "pickup_latitude",
       "z": null
      }
     },
     "c6be2ae07eac4713b4ffe4cc446d444a": {
      "model_module": "bqplot",
      "model_module_version": "^0.2.3",
      "model_name": "AxisModel",
      "state": {
       "scale": "IPY_MODEL_6ac0051597a04fc2b32030b41f964b24",
       "side": "bottom",
       "tick_values": {
        "type": null,
        "values": null
       }
      }
     },
     "d2f27841770d4e628399115634c35c03": {
      "model_module": "jupyter-js-widgets",
      "model_module_version": "~2.1.4",
      "model_name": "LayoutModel",
      "state": {
       "_model_module_version": "~2.1.4",
       "_view_module_version": "~2.1.4"
      }
     },
     "d42af7e35bd94b40aae5ee04cbb1584e": {
      "model_module": "jupyter-leaflet",
      "model_module_version": "*",
      "model_name": "LeafletTileLayerModel",
      "state": {
       "_model_module_version": "*",
       "_view_module_version": "*",
       "msg_throttle": 1,
       "options": [
        "attribution",
        "detect_retina",
        "max_zoom",
        "min_zoom",
        "opacity",
        "tile_size"
       ]
      }
     },
     "d49112751a0546be83d833990de4865c": {
      "model_module": "jupyter-js-widgets",
      "model_module_version": "~2.1.4",
      "model_name": "LinkModel",
      "state": {
       "_model_module_version": "~2.1.4",
       "_view_module_version": "~2.1.4",
       "source": [
        "IPY_MODEL_e13f8f53f5484509af8f41a793a134ad",
        "value"
       ],
       "target": [
        "IPY_MODEL_1b08c4c1d9724680a4bdf9b105bb7a66",
        "value"
       ]
      }
     },
     "d551ff2a7f614c619b40f01a1c587004": {
      "model_module": "jupyter-js-widgets",
      "model_module_version": "~2.1.4",
      "model_name": "LayoutModel",
      "state": {
       "_model_module_version": "~2.1.4",
       "_view_module_version": "~2.1.4"
      }
     },
     "d7ac517e067c42d38d8928e1d6c4bff3": {
      "model_module": "bqplot",
      "model_module_version": "^0.2.3",
      "model_name": "FigureModel",
      "state": {
       "_dom_classes": [],
       "animation_duration": 500,
       "axes": [
        "IPY_MODEL_c6be2ae07eac4713b4ffe4cc446d444a",
        "IPY_MODEL_853b485c480c45588162fcaffe416c49"
       ],
       "interaction": "IPY_MODEL_f84e10050de54331a09c86e404578175",
       "layout": "IPY_MODEL_765b83d490a74f90bca343225c858b0b",
       "marks": [
        "IPY_MODEL_0ec5d8c438bb4fb388fab942f8275119"
       ],
       "max_aspect_ratio": 6,
       "scale_x": "IPY_MODEL_faee74460dc74c3ab58283adaf24b7a9",
       "scale_y": "IPY_MODEL_a39944fddb1c4bfcb212410e8e585a1b"
      }
     },
     "e13f8f53f5484509af8f41a793a134ad": {
      "model_module": "jupyter-js-widgets",
      "model_module_version": "~2.1.4",
      "model_name": "FloatTextModel",
      "state": {
       "_model_module_version": "~2.1.4",
       "_view_module_version": "~2.1.4",
       "layout": "IPY_MODEL_06eb9b4c9f7446b19917594a7605cb4c",
       "value": 3
      }
     },
     "e1a2b9d4db574cfaa369355b3248d9db": {
      "model_module": "jupyter-js-widgets",
      "model_module_version": "~2.1.4",
      "model_name": "VBoxModel",
      "state": {
       "_model_module_version": "~2.1.4",
       "_view_module_version": "~2.1.4",
       "children": [
        "IPY_MODEL_7c16afffc4574ebf9f0e2567a89e596d",
        "IPY_MODEL_95f558ed542843afae4eb125f45cd80e",
        "IPY_MODEL_b51f09e9fe8945f1a8b296656dca373c",
        "IPY_MODEL_51c988916f9d43e480d1e33db7e84b35"
       ],
       "layout": "IPY_MODEL_b876cc50741a4089aa27077f55c3fafa"
      }
     },
     "e607935bb66e47f38c2d1e59ec0003c0": {
      "model_module": "jupyter-leaflet",
      "model_module_version": "*",
      "model_name": "LeafletTileLayerModel",
      "state": {
       "_model_module_version": "*",
       "_view_module_version": "*",
       "msg_throttle": 1,
       "options": [
        "attribution",
        "detect_retina",
        "max_zoom",
        "min_zoom",
        "opacity",
        "tile_size"
       ]
      }
     },
     "e7a4d03d5a724f0daeab9e07e6580178": {
      "model_module": "jupyter-js-widgets",
      "model_module_version": "~2.1.4",
      "model_name": "LayoutModel",
      "state": {
       "_model_module_version": "~2.1.4",
       "_view_module_version": "~2.1.4",
       "align_self": "stretch",
       "height": "400px"
      }
     },
     "f84e10050de54331a09c86e404578175": {
      "model_module": "bqplot",
      "model_module_version": "^0.2.3",
      "model_name": "BrushSelectorModel",
      "state": {
       "marks": [
        "IPY_MODEL_0ec5d8c438bb4fb388fab942f8275119"
       ],
       "x_scale": "IPY_MODEL_6ac0051597a04fc2b32030b41f964b24",
       "y_scale": "IPY_MODEL_b41286f96a474bd1891ea81a6c5e056e"
      }
     },
     "faee74460dc74c3ab58283adaf24b7a9": {
      "model_module": "bqplot",
      "model_module_version": "^0.2.3",
      "model_name": "LinearScaleModel",
      "state": {
       "allow_padding": false,
       "max": 1,
       "min": 0,
       "stabilized": false
      }
     }
    },
    "version_major": 1,
    "version_minor": 0
   }
  }
 },
 "nbformat": 4,
 "nbformat_minor": 2
}
